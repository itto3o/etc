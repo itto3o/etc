{
  "nbformat": 4,
  "nbformat_minor": 0,
  "metadata": {
    "colab": {
      "name": "RSAcode.ipynb",
      "provenance": [],
      "collapsed_sections": [],
      "include_colab_link": true
    },
    "kernelspec": {
      "name": "python3",
      "display_name": "Python 3"
    },
    "language_info": {
      "name": "python"
    }
  },
  "cells": [
    {
      "cell_type": "markdown",
      "metadata": {
        "id": "view-in-github",
        "colab_type": "text"
      },
      "source": [
        "<a href=\"https://colab.research.google.com/github/itto3o/etc/blob/main/RSAcode.ipynb\" target=\"_parent\"><img src=\"https://colab.research.google.com/assets/colab-badge.svg\" alt=\"Open In Colab\"/></a>"
      ]
    },
    {
      "cell_type": "code",
      "source": [
        "import random\n",
        "import math"
      ],
      "metadata": {
        "id": "vEVi5QE2ng5B"
      },
      "execution_count": null,
      "outputs": []
    },
    {
      "cell_type": "code",
      "execution_count": null,
      "metadata": {
        "id": "BLstr4h2-x2p"
      },
      "outputs": [],
      "source": [
        "#준비과정 _ 교수님 코드, self를 쓰기 위해선 class 선언이 필요한데 배우지 않음\n",
        "#소수 판별\n",
        "def _isPrime(x):\n",
        "    # 2부터 (x - 1)까지의 모든 수를 확인하며\n",
        "    for i in range(2, x):\n",
        "        # x가 해당 수로 나누어떨어진다면\n",
        "        if x % i == 0:\n",
        "            return False # 소수가 아님\n",
        "    return True # 소수임\n",
        "\n",
        "#소수 리스트 생성\n",
        "# 100이상의 소수를 뽑기 위해선 iNMinimum이 9800이어야 한다.\n",
        "def _createListPrimeNumber(self, iNMinimum):\n",
        "    liPrime = []\n",
        "    k = int(math.sqrt(iNMinimum - 1)) + 1\n",
        "    # maximum keyspace is [k, (2k)**2]\n",
        "    # 주석이랑 다른 범위의 코드가 들어감\n",
        "    for i in range(k, 2 * k):\n",
        "        if self._isPrime(i):\n",
        "            liPrime.append(i)\n",
        "    return liPrime\n",
        "\n",
        "#이게 공개키 n이랑 p,q, phi 만들기\n",
        "def _createKey(self, iNMinimum):\n",
        "        liPrime = self._createListPrimeNumber(iNMinimum)\n",
        "        pi = random.randint(0, len(liPrime) - 1)\n",
        "        while True:\n",
        "            qi = random.randint(0, len(liPrime) - 1)\n",
        "            if qi != pi:\n",
        "                break\n",
        "        p = liPrime[pi]\n",
        "        q = liPrime[qi]  # p != q\n",
        "        #n 구하기\n",
        "        self.n = p * q\n",
        "        #핀 구하기\n",
        "        phi = (p - 1) * (q - 1)\n",
        "        liCoprime = self._createListCoprimeNumber(p, q, phi)\n",
        "        self.e = liCoprime[random.randint(0, len(liCoprime) - 1)]\n",
        "        return phi, self.n, self.e\n",
        "\n",
        "#비밀키 d 만들기\n",
        "def _privateKeyD(self, phi):\n",
        "    self.d = 0\n",
        "    for d in range(1, phi):\n",
        "        if self.e * d % phi == 1:\n",
        "            self.d = d\n",
        "            break\n",
        "    return  # NEVER here; already proven in math\n",
        "\n",
        "#서로소 만들기 (phi랑 서로소인 e) ==> e만들기\n",
        "def _createListCoprimeNumber(self, p, q, phi):\n",
        "    liCoprime = []\n",
        "    for i in range(max(p, q), phi):\n",
        "        if math.gcd(i, phi) == 1:\n",
        "            liCoprime.append(i)\n",
        "    return liCoprime\n",
        "\n",
        "#암호화\n",
        "def encrypt(self, iM):\n",
        "        return iM ** self.e % self.n\n",
        "\n",
        "#복호화\n",
        "def decrypt(self, iC):\n",
        "        return iC ** self.d % self.n"
      ]
    },
    {
      "cell_type": "code",
      "source": [
        "#준비과정\n",
        "\n",
        "#소수 판별\n",
        "def isPrime(x):\n",
        "    # 2부터 (x - 1)까지의 모든 수를 확인하며\n",
        "    for i in range(2, x):\n",
        "        # x가 해당 수로 나누어떨어진다면\n",
        "        if x % i == 0:\n",
        "            return False # 소수가 아님\n",
        "    return True # 소수임\n",
        "\n",
        "#소수 리스트 생성\n",
        "# 100이상의 소수를 뽑기 위해선 iNMinimum이 9800이어야 한다.\n",
        "def createListPrimeNumber(iNMinimum):\n",
        "    liPrime = []\n",
        "    k = int(math.sqrt(iNMinimum - 1)) + 1\n",
        "    # maximum keyspace is [k, (2k)**2]\n",
        "    # 주석이랑 다른 범위의 코드가 들어감\n",
        "    for i in range(k, (2 * k)**2):\n",
        "        if isPrime(i):\n",
        "            liPrime.append(i)\n",
        "    return liPrime\n",
        "\n",
        "#서로소 만들기 (phi랑 서로소인 e) ==> e만들기\n",
        "def createListCoprimeNumber(p, q, phi):\n",
        "    liCoprime = []\n",
        "    for i in range(max(p, q), phi):\n",
        "        if math.gcd(i, phi) == 1:\n",
        "            liCoprime.append(i)\n",
        "    return liCoprime\n",
        "\n",
        "#이게 공개키 n이랑 p,q, phi 만들기\n",
        "def createKey(iNMinimum):\n",
        "        liPrime = createListPrimeNumber(iNMinimum)\n",
        "        pi = random.randint(0, len(liPrime) - 1)\n",
        "        while True:\n",
        "            qi = random.randint(0, len(liPrime) - 1)\n",
        "            if qi != pi:\n",
        "                break\n",
        "        p = liPrime[pi]\n",
        "        print('p : %d'%p)\n",
        "        q = liPrime[qi]  # p != q\n",
        "        print('q : %d'%q)\n",
        "        #n 구하기\n",
        "        n = p * q\n",
        "        #핀 구하기\n",
        "        phi = (p - 1) * (q - 1)\n",
        "        liCoprime = createListCoprimeNumber(p, q, phi)\n",
        "        e = liCoprime[random.randint(0, len(liCoprime) - 1)]\n",
        "        return phi, n, e\n",
        "\n",
        "#비밀키 d 만들기\n",
        "def privateKeyD(phi, e):\n",
        "    d = 0\n",
        "    for i in range(1, phi):\n",
        "        if e * i % phi == 1:\n",
        "            d = i\n",
        "            break\n",
        "    return d # NEVER here; already proven in math\n",
        "\n",
        "#암호화\n",
        "def encrypt(iM, e, n):\n",
        "  binE = bin(e)\n",
        "  print(binE)\n",
        "\n",
        "  listBinE =[]\n",
        "  for i in str(binE) :\n",
        "    listBinE.append(i)\n",
        "\n",
        "  #거꾸로\n",
        "  listBinE.reverse()\n",
        "  print(listBinE)\n",
        "\n",
        "  listdigitE = []\n",
        "  for i in range(0, len(listBinE)) :\n",
        "    if(listBinE[i] == '1'):\n",
        "      listdigitE.append(i)\n",
        "  print(listdigitE)\n",
        "\n",
        "  print('iM^e = ')\n",
        "  for i in listdigitE :\n",
        "    print('iM^(2^%d) *'%i, end= \" \")\n",
        "  \n",
        "  #return iM ** e % n\n",
        "  #거듭제곱의 나머지에 대한 성질 적용\n",
        "  print(\"iM**2 =\", iM ** 2)\n",
        "  t = iM ** 2 % n\n",
        "  result = ((t * t % n) * (t * t % n) % n) * t % n\n",
        "  print(\"iC Result =%d\"%result)\n",
        "  return result\n",
        "\n",
        "#복호화\n",
        "def decrypt(iC, d, n):\n",
        "  #return iC ** d % n\n",
        "  print(\"iC**2 =\", iC ** 2)\n",
        "  t = iC ** 2 % n\n",
        "  result = ((t * t % n) * (t * t % n) % n) * t % n\n",
        "  print(\"iM Result =%d\"%result)\n",
        "  return result\n"
      ],
      "metadata": {
        "id": "VrcE8arMpeTK"
      },
      "execution_count": 42,
      "outputs": []
    },
    {
      "cell_type": "code",
      "source": [
        "#컴퓨터가 p, q를 뽑아서 phi, n, e를 계산해서 리턴\n",
        "phi, n, e = createKey(9800)\n",
        "print(\"phi = %d, public key1 n = %d, public key2 e = %d\"%(phi, n, e))\n",
        "\n",
        "#d 구하기\n",
        "d = privateKeyD(phi, e)\n",
        "print(\"privatekey d = %d\" % d)"
      ],
      "metadata": {
        "id": "MDW7pMe1-1-q",
        "colab": {
          "base_uri": "https://localhost:8080/"
        },
        "outputId": "f14cc738-dd48-4d2f-a770-e3270d830e3f"
      },
      "execution_count": 38,
      "outputs": [
        {
          "output_type": "stream",
          "name": "stdout",
          "text": [
            "p : 27277\n",
            "q : 31531\n",
            "phi = 860012280, public key1 n = 860071087, public key2 e = 429125809\n",
            "privatekey d = 589340689\n"
          ]
        }
      ]
    },
    {
      "cell_type": "code",
      "source": [
        "#사람이 정하고싶은 암호를 정해서 암호화\n",
        "m = 68 #D\n",
        "c = encrypt(m, e, n)\n",
        "print(\"m = %d, c = %d\"%(m, c))\n",
        "\n",
        "#복호화\n",
        "m = decrypt(c, d, n)\n",
        "print(\"c = %d, after decrypt mesaage : %d\"%(c, m))"
      ],
      "metadata": {
        "colab": {
          "base_uri": "https://localhost:8080/"
        },
        "id": "buRglPa2rBdD",
        "outputId": "d92495c0-d5b1-4dbe-fa93-ce7c3b098fd3"
      },
      "execution_count": 43,
      "outputs": [
        {
          "output_type": "stream",
          "name": "stdout",
          "text": [
            "0b11001100100111111000010110001\n",
            "['1', '0', '0', '0', '1', '1', '0', '1', '0', '0', '0', '0', '1', '1', '1', '1', '1', '1', '0', '0', '1', '0', '0', '1', '1', '0', '0', '1', '1', 'b', '0']\n",
            "[0, 4, 5, 7, 12, 13, 14, 15, 16, 17, 20, 23, 24, 27, 28]\n",
            "iM^e = \n",
            "iM^(2^0) * iM^(2^4) * iM^(2^5) * iM^(2^7) * iM^(2^12) * iM^(2^13) * iM^(2^14) * iM^(2^15) * iM^(2^16) * iM^(2^17) * iM^(2^20) * iM^(2^23) * iM^(2^24) * iM^(2^27) * iM^(2^28) * iM**2 = 4624\n",
            "iC Result =854108162\n",
            "m = 68, c = 854108162\n",
            "iC**2 = 729500752395018244\n",
            "iM Result =152757606\n",
            "c = 854108162, after decrypt mesaage : 152757606\n"
          ]
        }
      ]
    },
    {
      "cell_type": "code",
      "source": [
        "#정재환 신용카드번호\n",
        "creditcardNumber = [5,3,6,0, 4,7,8,6, 4,3,3,0, 4,5,4,6]\n",
        "clist = []\n",
        "mlist = []\n",
        "\n",
        "#위에 랜덤으로 뽑음\n",
        "#d = 19099, n = 26441, e = 14227\n",
        "\n",
        "#암호화\n",
        "for i in creditcardNumber :\n",
        "  c = encrypt(i, e, n)\n",
        "  print(c , end=\" \")\n",
        "  clist.append(c)\n",
        "\n",
        "print()\n",
        "print(clist)\n",
        "\n",
        "#복호화\n",
        "for j in clist :\n",
        "  m = decrypt(j, d, n)\n",
        "  print(m, end=\" \")\n",
        "  mlist.append(m)\n",
        "\n",
        "print()\n",
        "print(mlist)"
      ],
      "metadata": {
        "colab": {
          "base_uri": "https://localhost:8080/"
        },
        "id": "GwvYQnR3nT3C",
        "outputId": "49150136-4400-469e-adb3-24de894e785e"
      },
      "execution_count": 33,
      "outputs": [
        {
          "output_type": "stream",
          "name": "stdout",
          "text": [
            "3638151 2621766 1657081 0 3950184 4952171 3461280 1657081 3950184 2621766 2621766 0 3950184 3638151 3950184 1657081 \n",
            "[3638151, 2621766, 1657081, 0, 3950184, 4952171, 3461280, 1657081, 3950184, 2621766, 2621766, 0, 3950184, 3638151, 3950184, 1657081]\n",
            "5 3 6 0 4 7 8 6 4 3 3 0 4 5 4 6 \n",
            "[5, 3, 6, 0, 4, 7, 8, 6, 4, 3, 3, 0, 4, 5, 4, 6]\n"
          ]
        }
      ]
    },
    {
      "cell_type": "code",
      "source": [
        ""
      ],
      "metadata": {
        "id": "DMjTUiF9u3z9"
      },
      "execution_count": null,
      "outputs": []
    }
  ]
}